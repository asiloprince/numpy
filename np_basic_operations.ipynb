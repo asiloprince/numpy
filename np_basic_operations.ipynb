{
 "cells": [
  {
   "cell_type": "markdown",
   "id": "37a12b46",
   "metadata": {},
   "source": [
    "# numpy operations\n",
    "#array with array\n",
    "#array with scalars\n",
    "#universal array functions\n"
   ]
  },
  {
   "cell_type": "code",
   "execution_count": 1,
   "id": "a971c4b7",
   "metadata": {},
   "outputs": [],
   "source": [
    "import numpy as np"
   ]
  },
  {
   "cell_type": "code",
   "execution_count": 2,
   "id": "f2dc23b5",
   "metadata": {},
   "outputs": [],
   "source": [
    "arr = np.arange(0,21)\n"
   ]
  },
  {
   "cell_type": "code",
   "execution_count": 5,
   "id": "81c6595a",
   "metadata": {},
   "outputs": [
    {
     "data": {
      "text/plain": [
       "array([ 0,  1,  2,  3,  4,  5,  6,  7,  8,  9, 10, 11, 12, 13, 14, 15, 16,\n",
       "       17, 18, 19, 20])"
      ]
     },
     "execution_count": 5,
     "metadata": {},
     "output_type": "execute_result"
    }
   ],
   "source": [
    "arr"
   ]
  },
  {
   "cell_type": "code",
   "execution_count": null,
   "id": "888b2896",
   "metadata": {},
   "outputs": [],
   "source": [
    "# we can perform array with array operations just by using simple arithmetic signs such as adding, subtraction and even multiplication\n"
   ]
  },
  {
   "cell_type": "code",
   "execution_count": 6,
   "id": "8c85c9cc",
   "metadata": {},
   "outputs": [
    {
     "data": {
      "text/plain": [
       "array([ 0,  2,  4,  6,  8, 10, 12, 14, 16, 18, 20, 22, 24, 26, 28, 30, 32,\n",
       "       34, 36, 38, 40])"
      ]
     },
     "execution_count": 6,
     "metadata": {},
     "output_type": "execute_result"
    }
   ],
   "source": [
    "arr + arr"
   ]
  },
  {
   "cell_type": "code",
   "execution_count": 7,
   "id": "021d2a23",
   "metadata": {},
   "outputs": [
    {
     "data": {
      "text/plain": [
       "array([0, 0, 0, 0, 0, 0, 0, 0, 0, 0, 0, 0, 0, 0, 0, 0, 0, 0, 0, 0, 0])"
      ]
     },
     "execution_count": 7,
     "metadata": {},
     "output_type": "execute_result"
    }
   ],
   "source": [
    "arr - arr"
   ]
  },
  {
   "cell_type": "code",
   "execution_count": 12,
   "id": "2fc34458",
   "metadata": {},
   "outputs": [
    {
     "data": {
      "text/plain": [
       "array([  0,   1,   4,   9,  16,  25,  36,  49,  64,  81, 100, 121, 144,\n",
       "       169, 196, 225, 256, 289, 324, 361, 400])"
      ]
     },
     "execution_count": 12,
     "metadata": {},
     "output_type": "execute_result"
    }
   ],
   "source": [
    "arr*arr"
   ]
  },
  {
   "cell_type": "markdown",
   "id": "8819c091",
   "metadata": {},
   "source": [
    "#array scalars operations. scalars means single numbers\n",
    "#array + scalar itself arr+50"
   ]
  },
  {
   "cell_type": "code",
   "execution_count": 13,
   "id": "87234e32",
   "metadata": {},
   "outputs": [
    {
     "data": {
      "text/plain": [
       "array([50, 51, 52, 53, 54, 55, 56, 57, 58, 59, 60, 61, 62, 63, 64, 65, 66,\n",
       "       67, 68, 69, 70])"
      ]
     },
     "execution_count": 13,
     "metadata": {},
     "output_type": "execute_result"
    }
   ],
   "source": [
    "arr + 50"
   ]
  },
  {
   "cell_type": "code",
   "execution_count": 18,
   "id": "65e41aad",
   "metadata": {},
   "outputs": [
    {
     "data": {
      "text/plain": [
       "array([   0,  200,  400,  600,  800, 1000, 1200, 1400, 1600, 1800, 2000,\n",
       "       2200, 2400, 2600, 2800, 3000, 3200, 3400, 3600, 3800, 4000])"
      ]
     },
     "execution_count": 18,
     "metadata": {},
     "output_type": "execute_result"
    }
   ],
   "source": [
    "arr * 200\n"
   ]
  },
  {
   "cell_type": "code",
   "execution_count": 20,
   "id": "0c8a85d2",
   "metadata": {},
   "outputs": [],
   "source": [
    "#division"
   ]
  },
  {
   "cell_type": "markdown",
   "id": "62b7be84",
   "metadata": {},
   "source": [
    "#notice that we get an error when we do division by 0 but in numpy will issue an warning instead of error when we do division operator by 0"
   ]
  },
  {
   "cell_type": "code",
   "execution_count": 16,
   "id": "2e05e9e6",
   "metadata": {},
   "outputs": [
    {
     "name": "stderr",
     "output_type": "stream",
     "text": [
      "C:\\Users\\ASILO\\AppData\\Local\\Temp\\ipykernel_23260\\1862401812.py:1: RuntimeWarning: invalid value encountered in divide\n",
      "  arr/arr\n"
     ]
    },
    {
     "data": {
      "text/plain": [
       "array([nan,  1.,  1.,  1.,  1.,  1.,  1.,  1.,  1.,  1.,  1.,  1.,  1.,\n",
       "        1.,  1.,  1.,  1.,  1.,  1.,  1.,  1.])"
      ]
     },
     "execution_count": 16,
     "metadata": {},
     "output_type": "execute_result"
    }
   ],
   "source": [
    "arr/arr"
   ]
  },
  {
   "cell_type": "code",
   "execution_count": 22,
   "id": "c8c52664",
   "metadata": {},
   "outputs": [
    {
     "data": {
      "text/plain": [
       "array([ 0. ,  0.5,  1. ,  1.5,  2. ,  2.5,  3. ,  3.5,  4. ,  4.5,  5. ,\n",
       "        5.5,  6. ,  6.5,  7. ,  7.5,  8. ,  8.5,  9. ,  9.5, 10. ])"
      ]
     },
     "execution_count": 22,
     "metadata": {},
     "output_type": "execute_result"
    }
   ],
   "source": [
    "arr/2\n"
   ]
  },
  {
   "cell_type": "code",
   "execution_count": 23,
   "id": "f7053723",
   "metadata": {},
   "outputs": [],
   "source": [
    "#we can also use array with exponents "
   ]
  },
  {
   "cell_type": "code",
   "execution_count": 24,
   "id": "328a7986",
   "metadata": {},
   "outputs": [
    {
     "data": {
      "text/plain": [
       "array([  0,   1,   4,   9,  16,  25,  36,  49,  64,  81, 100, 121, 144,\n",
       "       169, 196, 225, 256, 289, 324, 361, 400])"
      ]
     },
     "execution_count": 24,
     "metadata": {},
     "output_type": "execute_result"
    }
   ],
   "source": [
    "arr ** 2"
   ]
  },
  {
   "cell_type": "code",
   "execution_count": 25,
   "id": "566b54d7",
   "metadata": {},
   "outputs": [],
   "source": [
    "#universal functions \n",
    "#numpy has many universal array functions such as min, max, sin, log\n",
    "#for example getting square root"
   ]
  },
  {
   "cell_type": "code",
   "execution_count": 32,
   "id": "08f8fc00",
   "metadata": {},
   "outputs": [
    {
     "data": {
      "text/plain": [
       "array([0.        , 1.        , 1.41421356, 1.73205081, 2.        ,\n",
       "       2.23606798, 2.44948974, 2.64575131, 2.82842712, 3.        ,\n",
       "       3.16227766, 3.31662479, 3.46410162, 3.60555128, 3.74165739,\n",
       "       3.87298335, 4.        , 4.12310563, 4.24264069, 4.35889894,\n",
       "       4.47213595])"
      ]
     },
     "execution_count": 32,
     "metadata": {},
     "output_type": "execute_result"
    }
   ],
   "source": [
    "np.sqrt(arr)"
   ]
  },
  {
   "cell_type": "code",
   "execution_count": null,
   "id": "6237d09c",
   "metadata": {},
   "outputs": [],
   "source": []
  }
 ],
 "metadata": {
  "kernelspec": {
   "display_name": "Python 3 (ipykernel)",
   "language": "python",
   "name": "python3"
  },
  "language_info": {
   "codemirror_mode": {
    "name": "ipython",
    "version": 3
   },
   "file_extension": ".py",
   "mimetype": "text/x-python",
   "name": "python",
   "nbconvert_exporter": "python",
   "pygments_lexer": "ipython3",
   "version": "3.9.13"
  }
 },
 "nbformat": 4,
 "nbformat_minor": 5
}
